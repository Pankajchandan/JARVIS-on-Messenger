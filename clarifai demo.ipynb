{
 "cells": [
  {
   "cell_type": "code",
   "execution_count": 4,
   "metadata": {},
   "outputs": [
    {
     "name": "stdout",
     "output_type": "stream",
     "text": [
      "{'input': 'https://thumb1.shutterstock.com/display_pic_with_logo/588721/524896240/stock-photo-poznan-poland-nov-worldwide-some-billion-people-use-alcohol-one-of-the-most-widely-524896240.jpghttps://thumb1.shutterstock.com/display_pic_with_logo/588721/524896240/stock-photo-poznan-poland-nov-worldwide-some-billion-people-use-alcohol-one-of-the-most-widely-524896240.jpg', 'success': True, 'output': {'text': u'looks like glass. Might be alcohol as well or drink'}}\n"
     ]
    }
   ],
   "source": [
    "print process(url)"
   ]
  },
  {
   "cell_type": "code",
   "execution_count": null,
   "metadata": {
    "collapsed": true
   },
   "outputs": [],
   "source": []
  }
 ],
 "metadata": {
  "kernelspec": {
   "display_name": "Python 3",
   "language": "python",
   "name": "python3"
  },
  "language_info": {
   "codemirror_mode": {
    "name": "ipython",
    "version": 2
   },
   "file_extension": ".py",
   "mimetype": "text/x-python",
   "name": "python",
   "nbconvert_exporter": "python",
   "pygments_lexer": "ipython2",
   "version": "2.7.12"
  }
 },
 "nbformat": 4,
 "nbformat_minor": 2
}
